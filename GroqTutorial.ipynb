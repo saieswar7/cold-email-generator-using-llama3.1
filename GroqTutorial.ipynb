{
 "cells": [
  {
   "cell_type": "code",
   "execution_count": 11,
   "metadata": {},
   "outputs": [
    {
     "name": "stdout",
     "output_type": "stream",
     "text": [
      "content='The first person to land on the moon was Neil Armstrong. He stepped onto the lunar surface on July 20, 1969, as part of the Apollo 11 mission.' additional_kwargs={} response_metadata={'token_usage': {'completion_tokens': 37, 'prompt_tokens': 44, 'total_tokens': 81, 'completion_time': 0.148, 'prompt_time': 0.008261395, 'queue_time': 0.005526794, 'total_time': 0.156261395}, 'model_name': 'llama-3.1-70b-versatile', 'system_fingerprint': 'fp_b6828be2c9', 'finish_reason': 'stop', 'logprobs': None} id='run-65d94a79-5a1a-4401-b082-313e9aa42c8f-0' usage_metadata={'input_tokens': 44, 'output_tokens': 37, 'total_tokens': 81}\n"
     ]
    }
   ],
   "source": [
    "from langchain_groq import ChatGroq\n",
    "from dotenv import load_dotenv\n",
    "import os\n",
    "load_dotenv()\n",
    "apikey = os.getenv(\"groq_api_key\")\n",
    "llm = ChatGroq(\n",
    "    temperature=0.6,\n",
    "    groq_api_key=apikey,\n",
    "    model=\"llama-3.1-70b-versatile\"\n",
    ")\n",
    "response = llm.invoke(\"The first person to land on moon was..\")\n",
    "print(response)"
   ]
  },
  {
   "cell_type": "code",
   "execution_count": 7,
   "metadata": {},
   "outputs": [
    {
     "name": "stdout",
     "output_type": "stream",
     "text": [
      "Machine Learning Engineer, Sponsored Display - Job ID: 2672877 | Amazon.jobs\n",
      "Skip to main contentHomeYour job applicationAmazon culture & benefitsDiversity at AmazonLocationsTeamsJob categoriesResourcesInterview tipsDisability accommodationsAbout AmazonFAQ×Machine Learning Engineer, Sponsored DisplayJob ID: 2672877 | Amazon Development Centre (Scotland) LimitedApply nowView transcriptDESCRIPTIONWant to build machine learning systems that impact hundreds of millions of customers worldwide?We are looking for outstanding Machine Learning Engineers to join the Audience Building teams within Amazon Ads. Audience Building enables advertisers to define the customers they want to engage based on shopping interactions, digital content consumption, and other events on Amazon via machine learning models and rule-based criteria. As a member of our Agile team you will have the opportunity to drive a key product in the Amazon Advertising targeting infrastructure.Your team will own the business, technology, and operations, giving you the responsibility and authority to ensure success. You will be involved in every aspect of the process - from idea generation, business analysis and technical design through to software development across a variety of technologies. Your systems will meet remarkably high standards of performance and reliability, and will operate at massive scale, 24x7.The position offers exceptional opportunities for every candidate to grow their technical and non-technical skills. If you are selected, you have the opportunity to really make a difference to our business by inventing, enhancing and building world class systems, delivering results, working on exciting and challenging projects.About the teamSponsored Display is Amazon’s fastest growing ad product, helping businesses of all sizes to discover, reach, and engage relevant audiences along their shopping and entertainment journeys, on or off the Amazon store. We serve billions of personalized ads every day across the world. Our ads appear on the Amazon store, Twitch, IMDB and thousands of external websites and mobile apps.Machine learning models drive the selection, pricing and bidding for all our ads. In this role you will take technical leadership of our Machine Learning Engineering capability, helping us to train and serve state of the art neural networks on vast amounts of data and serve them at immense throughput with millisecond latency. You will optimize data pipelines, build and maintain model training infrastructure, and operate and optimize real-time model serving to support Sponsored Display worldwide. You will work with scientists to invent, optimize and launch next-generation machine learning models for some of the largest, highest throughput and lowest latency machine learning problems in the world.You will join a highly motivated, collaborative and fun-loving team with an entrepreneurial spirit and bias for action. The role will challenge you to think differently, hone your skills, and invent at scale. We're looking for engineers who obsess over technical details but can delight customers by continually learning and building the right products. You will help to invent the future of advertising.BASIC QUALIFICATIONS- Experience contributing to the architecture and design (architecture, design patterns, reliability and scaling) of new and current systems- Experience in professional, non-internship software development- Experience programming with at least one modern language such as Java, C++, or C# including object-oriented design- Experience in developing and deploying large scale machine learning or deep learning models and/or systems into production, including batch and real-time data processing, model containerization, CI/CD pipelines, API development, model training and productionizing ML models.PREFERRED QUALIFICATIONS- Bachelor's degree in computer science or equivalent- Experience with full software development life cycle, including coding standards, code reviews, source control management, build processes, testing, and operationsAmazon is an equal opportunities employer. We believe passionately that employing a diverse workforce is central to our success. We make recruiting decisions based on your experience and skills. We value your passion to discover, invent, simplify and build. Protecting your privacy and the security of your data is a longstanding top priority for Amazon. Please consult our Privacy Notice (https://www.amazon.jobs/en/privacy_page) to know more about how we collect, use and transfer the personal data of our candidates.Amazon is committed to a diverse and inclusive workplace. Amazon is an equal opportunity employer and does not discriminate on the basis of race, national origin, gender, gender identity, sexual orientation, protected veteran status, disability, age, or other legally protected status. For individuals with disabilities who would like to request an accommodation, please visit https://www.amazon.jobs/content/en/how-we-hire/accommodations.Job detailsGBR, MLN, EdinburghGBR, LondonSoftware DevelopmentShare this jobJOIN US ONFind CareersJob CategoriesTeamsLocationsUS and EU Military recruitingWarehouse and Hourly JobsWorking At AmazonCultureBenefitsAmazon NewsletterDiversity at AmazonOur leadership principlesHelpFAQInterview tipsReview application statusDisability accommodationsEU background checksAmazon is committed to a diverse and inclusive workplace. Amazon is an equal opportunity employer and does not discriminate on the basis of race, national origin, gender, gender identity, sexual orientation, protected veteran status, disability, age, or other legally protected status.Privacy and DataImpressum© 1996-2024, Amazon.com, Inc. or its affiliates\n"
     ]
    }
   ],
   "source": [
    "from langchain_community.document_loaders import WebBaseLoader\n",
    "\n",
    "loader = WebBaseLoader(\"https://www.amazon.jobs/en/jobs/2672877/machine-learning-engineer-sponsored-display\")\n",
    "page_data = loader.load().pop().page_content\n",
    "print(page_data)"
   ]
  },
  {
   "cell_type": "markdown",
   "metadata": {},
   "source": [
    "from langa"
   ]
  },
  {
   "cell_type": "code",
   "execution_count": 10,
   "metadata": {},
   "outputs": [
    {
     "name": "stdout",
     "output_type": "stream",
     "text": [
      "```\n",
      "{\n",
      "  \"role\": \"Machine Learning Engineer, Sponsored Display\",\n",
      "  \"experience\": \"Experience contributing to the architecture and design of new and current systems, experience in professional software development, experience programming with at least one modern language\",\n",
      "  \"skills\": [\"Java\", \"C++\", \"C#\", \"Machine Learning\", \"Deep Learning\", \"Batch and real-time data processing\", \"Model containerization\", \"CI/CD pipelines\", \"API development\"],\n",
      "  \"description\": \"Want to build machine learning systems that impact hundreds of millions of customers worldwide? We are looking for outstanding Machine Learning Engineers to join the Audience Building teams within Amazon Ads.\"\n",
      "}\n",
      "```\n"
     ]
    }
   ],
   "source": [
    "from langchain_core.prompts import PromptTemplate\n",
    "\n",
    "prompt_extract = PromptTemplate.from_template(\n",
    "    \"\"\"\n",
    "    ### SCRAPED TEXT FROM WEBSITE:\n",
    "    {page_data}\n",
    "    ### INSTRUCTION:\n",
    "    The scraped text is from the careers's page of a website.\n",
    "    your job is to extract the job postings and return then in JSON format containing the following\n",
    "    keys :`role`,`experience`,`skills` and `description`.\n",
    "    Only return the valid JSON.\n",
    "    ### VALID JSON (NO PREAMBLE):\n",
    "    \"\"\"\n",
    ")\n",
    "\n",
    "chain_extract = prompt_extract | llm\n",
    "res = chain_extract.invoke(input={\"page_data\":page_data})\n",
    "print(res.content)"
   ]
  },
  {
   "cell_type": "code",
   "execution_count": 22,
   "metadata": {},
   "outputs": [
    {
     "data": {
      "text/plain": [
       "{'role': 'Machine Learning Engineer, Sponsored Display',\n",
       " 'experience': ['Experience contributing to the architecture and design (architecture, design patterns, reliability and scaling) of new and current systems',\n",
       "  'Experience in professional, non-internship software development',\n",
       "  'Experience programming with at least one modern language such as Java, C++, or C# including object-oriented design',\n",
       "  'Experience in developing and deploying large scale machine learning or deep learning models and/or systems into production, including batch and real-time data processing, model containerization, CI/CD pipelines, API development, model training and productionizing ML models'],\n",
       " 'skills': ['Architecture and design',\n",
       "  'Java',\n",
       "  'C++',\n",
       "  'C#',\n",
       "  'Object-oriented design',\n",
       "  'Machine learning',\n",
       "  'Deep learning',\n",
       "  'Batch and real-time data processing',\n",
       "  'Model containerization',\n",
       "  'CI/CD pipelines',\n",
       "  'API development'],\n",
       " 'description': 'Want to build machine learning systems that impact hundreds of millions of customers worldwide? We are looking for outstanding Machine Learning Engineers to join the Audience Building teams within Amazon Ads. Audience Building enables advertisers to define the customers they want to engage based on shopping interactions, digital content consumption, and other events on Amazon via machine learning models and rule-based criteria.'}"
      ]
     },
     "execution_count": 22,
     "metadata": {},
     "output_type": "execute_result"
    }
   ],
   "source": [
    "from langchain_core.output_parsers import JsonOutputParser\n",
    "\n",
    "json_parser = JsonOutputParser()\n",
    "json_res = json_parser.parse(res.content)\n",
    "json_res"
   ]
  },
  {
   "cell_type": "code",
   "execution_count": 1,
   "metadata": {},
   "outputs": [],
   "source": [
    "import pandas as pd"
   ]
  },
  {
   "cell_type": "code",
   "execution_count": 4,
   "metadata": {},
   "outputs": [],
   "source": [
    "df = pd.read_csv(\"app/resource/techstackcsv.csv\")"
   ]
  },
  {
   "cell_type": "code",
   "execution_count": 5,
   "metadata": {},
   "outputs": [
    {
     "data": {
      "text/html": [
       "<div>\n",
       "<style scoped>\n",
       "    .dataframe tbody tr th:only-of-type {\n",
       "        vertical-align: middle;\n",
       "    }\n",
       "\n",
       "    .dataframe tbody tr th {\n",
       "        vertical-align: top;\n",
       "    }\n",
       "\n",
       "    .dataframe thead th {\n",
       "        text-align: right;\n",
       "    }\n",
       "</style>\n",
       "<table border=\"1\" class=\"dataframe\">\n",
       "  <thead>\n",
       "    <tr style=\"text-align: right;\">\n",
       "      <th></th>\n",
       "      <th>Techstack</th>\n",
       "      <th>Links</th>\n",
       "    </tr>\n",
       "  </thead>\n",
       "  <tbody>\n",
       "    <tr>\n",
       "      <th>0</th>\n",
       "      <td>React, Node.js, MongoDB</td>\n",
       "      <td>https://example.com/react-portfolio</td>\n",
       "    </tr>\n",
       "    <tr>\n",
       "      <th>1</th>\n",
       "      <td>Angular, Express, MySQL</td>\n",
       "      <td>https://example.com/angular-portfolio</td>\n",
       "    </tr>\n",
       "    <tr>\n",
       "      <th>2</th>\n",
       "      <td>Vue, Flask, PostgreSQL</td>\n",
       "      <td>https://example.com/vue-portfolio</td>\n",
       "    </tr>\n",
       "    <tr>\n",
       "      <th>3</th>\n",
       "      <td>Svelte, Node.js, SQLite</td>\n",
       "      <td>https://example.com/svelte-portfolio</td>\n",
       "    </tr>\n",
       "    <tr>\n",
       "      <th>4</th>\n",
       "      <td>React, Django, MongoDB</td>\n",
       "      <td>https://example.com/react-django</td>\n",
       "    </tr>\n",
       "    <tr>\n",
       "      <th>5</th>\n",
       "      <td>Next.js, Express, MongoDB</td>\n",
       "      <td>https://example.com/nextjs-portfolio</td>\n",
       "    </tr>\n",
       "    <tr>\n",
       "      <th>6</th>\n",
       "      <td>Nuxt.js, FastAPI, MySQL</td>\n",
       "      <td>https://example.com/nuxtjs-portfolio</td>\n",
       "    </tr>\n",
       "    <tr>\n",
       "      <th>7</th>\n",
       "      <td>HTML, CSS, Vanilla JS</td>\n",
       "      <td>https://example.com/html-css</td>\n",
       "    </tr>\n",
       "    <tr>\n",
       "      <th>8</th>\n",
       "      <td>Flutter, Django, SQLite</td>\n",
       "      <td>https://example.com/flutter-django11</td>\n",
       "    </tr>\n",
       "    <tr>\n",
       "      <th>9</th>\n",
       "      <td>Vue, Laravel, MySQL</td>\n",
       "      <td>https://example.com/vue-laravel12</td>\n",
       "    </tr>\n",
       "    <tr>\n",
       "      <th>10</th>\n",
       "      <td>SvelteKit, Python, MongoDB</td>\n",
       "      <td>https://example.com/sveltekit13</td>\n",
       "    </tr>\n",
       "    <tr>\n",
       "      <th>11</th>\n",
       "      <td>Ember.js, Express, PostgreSQL</td>\n",
       "      <td>https://example.com/ember-express14</td>\n",
       "    </tr>\n",
       "    <tr>\n",
       "      <th>12</th>\n",
       "      <td>Next.js, Python, Firestore</td>\n",
       "      <td>https://example.com/nextjs15</td>\n",
       "    </tr>\n",
       "    <tr>\n",
       "      <th>13</th>\n",
       "      <td>React, PHP, MySQL</td>\n",
       "      <td>https://example.com/react-php16</td>\n",
       "    </tr>\n",
       "    <tr>\n",
       "      <th>14</th>\n",
       "      <td>Vue, ASP.NET, SQL Server</td>\n",
       "      <td>https://example.com/vue-dotnet17</td>\n",
       "    </tr>\n",
       "    <tr>\n",
       "      <th>15</th>\n",
       "      <td>Angular, Flask, SQLite</td>\n",
       "      <td>https://example.com/angular-flask18</td>\n",
       "    </tr>\n",
       "    <tr>\n",
       "      <th>16</th>\n",
       "      <td>React, Ruby on Rails, PostgreSQL</td>\n",
       "      <td>https://example.com/react-rails19</td>\n",
       "    </tr>\n",
       "    <tr>\n",
       "      <th>17</th>\n",
       "      <td>Svelte, Node.js, Firestore</td>\n",
       "      <td>https://example.com/svelte20</td>\n",
       "    </tr>\n",
       "    <tr>\n",
       "      <th>18</th>\n",
       "      <td>Next.js, Express, DynamoDB</td>\n",
       "      <td>https://example.com/nextjs-dynamodb21</td>\n",
       "    </tr>\n",
       "    <tr>\n",
       "      <th>19</th>\n",
       "      <td>React, Go, MongoDB</td>\n",
       "      <td>https://example.com/react-go22</td>\n",
       "    </tr>\n",
       "    <tr>\n",
       "      <th>20</th>\n",
       "      <td>Nuxt.js, PHP, MySQL</td>\n",
       "      <td>https://example.com/nuxtjs-php23</td>\n",
       "    </tr>\n",
       "    <tr>\n",
       "      <th>21</th>\n",
       "      <td>Angular, Firebase, Firestore</td>\n",
       "      <td>https://example.com/angular-firebase24</td>\n",
       "    </tr>\n",
       "    <tr>\n",
       "      <th>22</th>\n",
       "      <td>Vue, Node.js, MariaDB</td>\n",
       "      <td>https://example.com/vue-mariadb25</td>\n",
       "    </tr>\n",
       "    <tr>\n",
       "      <th>23</th>\n",
       "      <td>SvelteKit, Django, MySQL</td>\n",
       "      <td>https://example.com/sveltekit-django26</td>\n",
       "    </tr>\n",
       "    <tr>\n",
       "      <th>24</th>\n",
       "      <td>Ember.js, Flask, PostgreSQL</td>\n",
       "      <td>https://example.com/ember-flask27</td>\n",
       "    </tr>\n",
       "    <tr>\n",
       "      <th>25</th>\n",
       "      <td>React, Laravel, SQLite</td>\n",
       "      <td>https://example.com/react-laravel28</td>\n",
       "    </tr>\n",
       "    <tr>\n",
       "      <th>26</th>\n",
       "      <td>Angular, .NET Core, SQL Server</td>\n",
       "      <td>https://example.com/angular-dotnet29</td>\n",
       "    </tr>\n",
       "    <tr>\n",
       "      <th>27</th>\n",
       "      <td>Vue, Firebase, SQLite</td>\n",
       "      <td>https://example.com/vue-firebase30</td>\n",
       "    </tr>\n",
       "  </tbody>\n",
       "</table>\n",
       "</div>"
      ],
      "text/plain": [
       "                           Techstack                                   Links\n",
       "0            React, Node.js, MongoDB     https://example.com/react-portfolio\n",
       "1            Angular, Express, MySQL   https://example.com/angular-portfolio\n",
       "2             Vue, Flask, PostgreSQL       https://example.com/vue-portfolio\n",
       "3            Svelte, Node.js, SQLite    https://example.com/svelte-portfolio\n",
       "4             React, Django, MongoDB        https://example.com/react-django\n",
       "5          Next.js, Express, MongoDB    https://example.com/nextjs-portfolio\n",
       "6            Nuxt.js, FastAPI, MySQL    https://example.com/nuxtjs-portfolio\n",
       "7              HTML, CSS, Vanilla JS            https://example.com/html-css\n",
       "8            Flutter, Django, SQLite    https://example.com/flutter-django11\n",
       "9                Vue, Laravel, MySQL       https://example.com/vue-laravel12\n",
       "10        SvelteKit, Python, MongoDB         https://example.com/sveltekit13\n",
       "11     Ember.js, Express, PostgreSQL     https://example.com/ember-express14\n",
       "12        Next.js, Python, Firestore            https://example.com/nextjs15\n",
       "13                 React, PHP, MySQL         https://example.com/react-php16\n",
       "14          Vue, ASP.NET, SQL Server        https://example.com/vue-dotnet17\n",
       "15            Angular, Flask, SQLite     https://example.com/angular-flask18\n",
       "16  React, Ruby on Rails, PostgreSQL       https://example.com/react-rails19\n",
       "17        Svelte, Node.js, Firestore            https://example.com/svelte20\n",
       "18        Next.js, Express, DynamoDB   https://example.com/nextjs-dynamodb21\n",
       "19                React, Go, MongoDB          https://example.com/react-go22\n",
       "20               Nuxt.js, PHP, MySQL        https://example.com/nuxtjs-php23\n",
       "21      Angular, Firebase, Firestore  https://example.com/angular-firebase24\n",
       "22             Vue, Node.js, MariaDB       https://example.com/vue-mariadb25\n",
       "23          SvelteKit, Django, MySQL  https://example.com/sveltekit-django26\n",
       "24       Ember.js, Flask, PostgreSQL       https://example.com/ember-flask27\n",
       "25            React, Laravel, SQLite     https://example.com/react-laravel28\n",
       "26    Angular, .NET Core, SQL Server    https://example.com/angular-dotnet29\n",
       "27             Vue, Firebase, SQLite      https://example.com/vue-firebase30"
      ]
     },
     "execution_count": 5,
     "metadata": {},
     "output_type": "execute_result"
    }
   ],
   "source": [
    "df"
   ]
  },
  {
   "cell_type": "code",
   "execution_count": 27,
   "metadata": {},
   "outputs": [],
   "source": [
    "import chromadb\n",
    "import uuid\n",
    "client = chromadb.PersistentClient(\"vectorstore\")\n",
    "collection = client.get_or_create_collection(name=\"portfolio\")\n",
    "\n",
    "if not collection.count():\n",
    "    for _,row in df.iterrows():\n",
    "        collection.add(\n",
    "            documents=row[\"Techstack\"],\n",
    "            metadatas={\"links\":row[\"Links\"]},\n",
    "            ids=[str(uuid.uuid4())]\n",
    "        )"
   ]
  },
  {
   "cell_type": "code",
   "execution_count": 28,
   "metadata": {},
   "outputs": [
    {
     "data": {
      "text/plain": [
       "[[{'links': 'https://example.com/html-css'}],\n",
       " [{'links': 'https://example.com/sveltekit13'}],\n",
       " [{'links': 'https://example.com/html-css'}],\n",
       " [{'links': 'https://example.com/angular-dotnet29'}],\n",
       " [{'links': 'https://example.com/html-css'}],\n",
       " [{'links': 'https://example.com/html-css'}],\n",
       " [{'links': 'https://example.com/vue-dotnet17'}],\n",
       " [{'links': 'https://example.com/sveltekit13'}],\n",
       " [{'links': 'https://example.com/ember-flask27'}],\n",
       " [{'links': 'https://example.com/nuxtjs-portfolio'}],\n",
       " [{'links': 'https://example.com/vue-portfolio'}]]"
      ]
     },
     "execution_count": 28,
     "metadata": {},
     "output_type": "execute_result"
    }
   ],
   "source": [
    "links = collection.query(query_texts=json_res[\"skills\"],n_results=1).get('metadatas',[])\n",
    "links"
   ]
  },
  {
   "cell_type": "code",
   "execution_count": 16,
   "metadata": {},
   "outputs": [
    {
     "data": {
      "text/plain": [
       "[{'role': 'Retail Associate, SEAS - Houston',\n",
       "  'experience': 'None specified',\n",
       "  'skills': ['Positive attitude',\n",
       "   'Knowledge of footwear, apparel and accessories',\n",
       "   'Ability to work in a team environment',\n",
       "   'Physical requirements include the ability to bend, squat, reach, climb a ladder and stand for extended periods of time'],\n",
       "  'description': 'Converse is looking for a Retail Associate to join their team in Houston. As a Retail Associate, you will be responsible for creating a fun and knowledgeable environment for customers, supporting the customer sales journey, and acting in accordance with store policies and procedures.'}]"
      ]
     },
     "execution_count": 16,
     "metadata": {},
     "output_type": "execute_result"
    }
   ],
   "source": [
    "json_res"
   ]
  },
  {
   "cell_type": "code",
   "execution_count": 18,
   "metadata": {},
   "outputs": [
    {
     "data": {
      "text/plain": [
       "['Positive attitude',\n",
       " 'Knowledge of footwear, apparel and accessories',\n",
       " 'Ability to work in a team environment',\n",
       " 'Physical requirements include the ability to bend, squat, reach, climb a ladder and stand for extended periods of time']"
      ]
     },
     "execution_count": 18,
     "metadata": {},
     "output_type": "execute_result"
    }
   ],
   "source": [
    "job = json_res[0]\n",
    "job[\"skills\"]"
   ]
  },
  {
   "cell_type": "code",
   "execution_count": 30,
   "metadata": {},
   "outputs": [
    {
     "name": "stdout",
     "output_type": "stream",
     "text": [
      "Subject: Expert Machine Learning Solutions for Amazon Ads\n",
      "\n",
      "Dear Hiring Manager,\n",
      "\n",
      "I came across the Machine Learning Engineer, Sponsored Display role at Amazon Ads and was impressed by the impact your team is making in developing machine learning systems that influence hundreds of millions of customers worldwide. As a Business Development Executive at TCS, I'd like to introduce you to our AI and software consulting services that can support your mission.\n",
      "\n",
      "At TCS, we empower enterprises by seamlessly integrating business processes through automated tools. Our expertise in machine learning, deep learning, and software development can help you build and deploy large-scale machine learning models and systems into production. Our services include architecture and design, batch and real-time data processing, model containerization, CI/CD pipelines, and API development.\n",
      "\n",
      "Our team has a proven track record of delivering high-quality solutions. For instance, we've developed a robust e-commerce platform using Vue.js and .NET (https://example.com/vue-dotnet17), and a scalable web application using Nuxt.js (https://example.com/nuxtjs-portfolio). These projects demonstrate our capabilities in designing and developing complex systems that can handle large volumes of data and traffic.\n",
      "\n",
      "We'd love to explore how our expertise can support your Audience Building teams in developing machine learning models and rule-based criteria that enable advertisers to engage with their target customers. Our collaborative approach ensures that our solutions meet your specific needs and are tailored to your business goals.\n",
      "\n",
      "If you're interested in learning more about our services and how we can contribute to your success, I'd be happy to schedule a call to discuss further.\n",
      "\n",
      "Best regards,\n",
      "\n",
      "Sai\n",
      "Business Development Executive\n",
      "TCS\n"
     ]
    }
   ],
   "source": [
    "prompt_email = PromptTemplate.from_template(\n",
    "    \"\"\"\n",
    "    ### JOB DESCRIPTION\n",
    "    {job_description}\n",
    "    ### INSTRUCTION:\n",
    "    You are Sai, a business development executive at TCS. TCS is an AI & Software consultive company\n",
    "    dedicated and provide the seamless integration of business process through automated tools.\n",
    "    Over our experience, we have empowered numerous enterprises with tailored solutions, foestering the \n",
    "    process optimization, cost reduction, and heightened overall efficiency.\n",
    "    Your job is to write a cold email to the client regarding the job mentioned above describing what we do\n",
    "    and how we help in fulfilling their needs.\n",
    "    Also add the most revelevant ones from the following links to showcase TCS portfolio:{link_list}\n",
    "    \n",
    "    Remember you are Sai, BDE at TCS.\n",
    "    Do not provide any preamble\n",
    "    ### EMAIL (NO PREAMBLE):\n",
    "    \"\"\"\n",
    ")\n",
    "\n",
    "chain_extract = prompt_email | llm\n",
    "res = chain_extract.invoke(input={\"job_description\":str(json_res),\"link_list\":links})\n",
    "print(res.content)"
   ]
  },
  {
   "cell_type": "code",
   "execution_count": null,
   "metadata": {},
   "outputs": [],
   "source": []
  }
 ],
 "metadata": {
  "kernelspec": {
   "display_name": "myvenv",
   "language": "python",
   "name": "python3"
  },
  "language_info": {
   "codemirror_mode": {
    "name": "ipython",
    "version": 3
   },
   "file_extension": ".py",
   "mimetype": "text/x-python",
   "name": "python",
   "nbconvert_exporter": "python",
   "pygments_lexer": "ipython3",
   "version": "3.12.6"
  }
 },
 "nbformat": 4,
 "nbformat_minor": 4
}
